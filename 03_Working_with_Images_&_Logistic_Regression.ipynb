{
  "nbformat": 4,
  "nbformat_minor": 0,
  "metadata": {
    "colab": {
      "provenance": [],
      "collapsed_sections": [
        "nwL_L50bn1nj"
      ],
      "authorship_tag": "ABX9TyO1t770Kt/6kOYZjVcOfWuc",
      "include_colab_link": true
    },
    "kernelspec": {
      "name": "python3",
      "display_name": "Python 3"
    },
    "language_info": {
      "name": "python"
    }
  },
  "cells": [
    {
      "cell_type": "markdown",
      "metadata": {
        "id": "view-in-github",
        "colab_type": "text"
      },
      "source": [
        "<a href=\"https://colab.research.google.com/github/fjpcediel87/DeepLearning--Learning/blob/main/03_Working_with_Images_%26_Logistic_Regression.ipynb\" target=\"_parent\"><img src=\"https://colab.research.google.com/assets/colab-badge.svg\" alt=\"Open In Colab\"/></a>"
      ]
    },
    {
      "cell_type": "code",
      "execution_count": 1,
      "metadata": {
        "id": "uUywwMxBaheX"
      },
      "outputs": [],
      "source": [
        "# Imports\n",
        "import torch\n",
        "import torchvision\n",
        "from torchvision.datasets import MNIST"
      ]
    },
    {
      "cell_type": "code",
      "source": [
        "# Download training dataset\n",
        "dataset = MNIST(root='data/', download=True)"
      ],
      "metadata": {
        "colab": {
          "base_uri": "https://localhost:8080/"
        },
        "id": "biLYJlaNbRHt",
        "outputId": "a933d694-e2ca-413a-e32c-be7cd701ea42"
      },
      "execution_count": 2,
      "outputs": [
        {
          "output_type": "stream",
          "name": "stderr",
          "text": [
            "100%|██████████| 9.91M/9.91M [00:00<00:00, 58.0MB/s]\n",
            "100%|██████████| 28.9k/28.9k [00:00<00:00, 1.80MB/s]\n",
            "100%|██████████| 1.65M/1.65M [00:00<00:00, 14.5MB/s]\n",
            "100%|██████████| 4.54k/4.54k [00:00<00:00, 5.72MB/s]\n"
          ]
        }
      ]
    },
    {
      "cell_type": "code",
      "source": [
        "len(dataset)"
      ],
      "metadata": {
        "colab": {
          "base_uri": "https://localhost:8080/"
        },
        "id": "IoZBS30_baTC",
        "outputId": "7f5fa2ba-35f8-466a-fd62-499748236260"
      },
      "execution_count": 3,
      "outputs": [
        {
          "output_type": "execute_result",
          "data": {
            "text/plain": [
              "60000"
            ]
          },
          "metadata": {},
          "execution_count": 3
        }
      ]
    },
    {
      "cell_type": "code",
      "source": [
        "test_dataset = MNIST(root='data/', train=False)\n",
        "len(test_dataset)"
      ],
      "metadata": {
        "colab": {
          "base_uri": "https://localhost:8080/"
        },
        "id": "cOx0NxGJbpzG",
        "outputId": "f1374dc3-e3fc-4577-e718-202f296442eb"
      },
      "execution_count": 4,
      "outputs": [
        {
          "output_type": "execute_result",
          "data": {
            "text/plain": [
              "10000"
            ]
          },
          "metadata": {},
          "execution_count": 4
        }
      ]
    },
    {
      "cell_type": "code",
      "source": [
        "dataset[0]"
      ],
      "metadata": {
        "colab": {
          "base_uri": "https://localhost:8080/"
        },
        "id": "N-wcAzScbxqp",
        "outputId": "0739eac3-ea09-4d19-81fb-e6803c865dd4"
      },
      "execution_count": 5,
      "outputs": [
        {
          "output_type": "execute_result",
          "data": {
            "text/plain": [
              "(<PIL.Image.Image image mode=L size=28x28>, 5)"
            ]
          },
          "metadata": {},
          "execution_count": 5
        }
      ]
    },
    {
      "cell_type": "markdown",
      "source": [
        "It's a pair, consisting of a 28x28px image and a label. The image is an object of the class `PIL.Image.Image`, which is a part of the Python imaging library [Pillow](https://pillow.readthedocs.io/en/stable/). We can view the image within Jupyter using [`matplotlib`](https://matplotlib.org/), the de-facto plotting and graphing library for data science in Python."
      ],
      "metadata": {
        "id": "IpQmh-aDcAUw"
      }
    },
    {
      "cell_type": "code",
      "source": [
        "import matplotlib.pyplot as plt\n",
        "%matplotlib inline"
      ],
      "metadata": {
        "id": "5ypta70NcBog"
      },
      "execution_count": 6,
      "outputs": []
    },
    {
      "cell_type": "markdown",
      "source": [
        "The statement `%matplotlib inline` indicates to Jupyter that we want to plot the graphs within the notebook. Without this line, Jupyter will show the image in a popup. Statements starting with `%` are called magic commands and are used to configure the behavior of Jupyter itself. You can find a full list of magic commands here: https://ipython.readthedocs.io/en/stable/interactive/magics.html .\n",
        "\n",
        "Let's look at a couple of images from the dataset."
      ],
      "metadata": {
        "id": "Md6rqa9VcMap"
      }
    },
    {
      "cell_type": "code",
      "source": [
        "image, label = dataset[0]\n",
        "plt.imshow(image, cmap='gray')\n",
        "print('Label:', label)"
      ],
      "metadata": {
        "colab": {
          "base_uri": "https://localhost:8080/",
          "height": 447
        },
        "id": "08MqKBTncOre",
        "outputId": "febca630-b7da-42d9-dc26-865f8c0a2c0a"
      },
      "execution_count": 7,
      "outputs": [
        {
          "output_type": "stream",
          "name": "stdout",
          "text": [
            "Label: 5\n"
          ]
        },
        {
          "output_type": "display_data",
          "data": {
            "text/plain": [
              "<Figure size 640x480 with 1 Axes>"
            ],
            "image/png": "[encoded data removed]"
          },
          "metadata": {}
        }
      ]
    },
    {
      "cell_type": "code",
      "source": [
        "image, label = dataset[10]\n",
        "plt.imshow(image, cmap='gray')\n",
        "print('Label:', label)"
      ],
      "metadata": {
        "colab": {
          "base_uri": "https://localhost:8080/",
          "height": 447
        },
        "id": "vzGqNp2FcaJ0",
        "outputId": "bab83331-8b96-4f15-db3c-22a5073a60cf"
      },
      "execution_count": 8,
      "outputs": [
        {
          "output_type": "stream",
          "name": "stdout",
          "text": [
            "Label: 3\n"
          ]
        },
        {
          "output_type": "display_data",
          "data": {
            "text/plain": [
              "<Figure size 640x480 with 1 Axes>"
            ],
            "image/png": "[encoded data removed]"
          },
          "metadata": {}
        }
      ]
    },
    {
      "cell_type": "code",
      "source": [
        "image, label = dataset[59999]\n",
        "plt.imshow(image, cmap='gray')\n",
        "print('Label:', label)"
      ],
      "metadata": {
        "colab": {
          "base_uri": "https://localhost:8080/",
          "height": 447
        },
        "id": "JO0BuIdIcdpn",
        "outputId": "36c80c8b-4a93-4ac8-823c-878a379c2c5f"
      },
      "execution_count": 9,
      "outputs": [
        {
          "output_type": "stream",
          "name": "stdout",
          "text": [
            "Label: 8\n"
          ]
        },
        {
          "output_type": "display_data",
          "data": {
            "text/plain": [
              "<Figure size 640x480 with 1 Axes>"
            ],
            "image/png": "[encoded data removed]"
          },
          "metadata": {}
        }
      ]
    },
    {
      "cell_type": "code",
      "source": [
        "image, label = dataset[60000-2] #Since len(dataset)=6e4, the max element would be 59999.\n",
        "plt.imshow(image, cmap='gray')\n",
        "print('Label:', label)"
      ],
      "metadata": {
        "colab": {
          "base_uri": "https://localhost:8080/",
          "height": 447
        },
        "id": "gwG2NllLclOs",
        "outputId": "0f7a8caa-43a1-4a64-d153-6dbdc36a641d"
      },
      "execution_count": 12,
      "outputs": [
        {
          "output_type": "stream",
          "name": "stdout",
          "text": [
            "Label: 6\n"
          ]
        },
        {
          "output_type": "display_data",
          "data": {
            "text/plain": [
              "<Figure size 640x480 with 1 Axes>"
            ],
            "image/png": "[encoded data removed]"
          },
          "metadata": {}
        }
      ]
    },
    {
      "cell_type": "code",
      "source": [
        "import torchvision.transforms as transforms"
      ],
      "metadata": {
        "id": "leXmxkCQdD3u"
      },
      "execution_count": 8,
      "outputs": []
    },
    {
      "cell_type": "markdown",
      "source": [
        "PyTorch datasets allow us to specify one or more transformation functions that are applied to the images as they are loaded. The `torchvision.transforms` module contains many such predefined functions. We'll use the `ToTensor` transform to convert images into PyTorch tensors."
      ],
      "metadata": {
        "id": "mdGREtHHdHKn"
      }
    },
    {
      "cell_type": "code",
      "source": [
        "# MNIST dataset (images and labels)\n",
        "dataset = MNIST(root='data/',\n",
        "                train=True,\n",
        "                transform=transforms.ToTensor())"
      ],
      "metadata": {
        "id": "5u6XFVO2dJd2"
      },
      "execution_count": 9,
      "outputs": []
    },
    {
      "cell_type": "code",
      "source": [
        "img_tensor, label = dataset[0] #you can see the number of pixels on the figures above 28 x 28\n",
        "print(img_tensor.shape, label)"
      ],
      "metadata": {
        "colab": {
          "base_uri": "https://localhost:8080/"
        },
        "id": "ycLAab4JdiUC",
        "outputId": "15a33e07-cb0c-4c58-eb0d-e2ef5af93f3f"
      },
      "execution_count": 10,
      "outputs": [
        {
          "output_type": "stream",
          "name": "stdout",
          "text": [
            "torch.Size([1, 28, 28]) 5\n"
          ]
        }
      ]
    },
    {
      "cell_type": "code",
      "source": [
        "print(img_tensor[:,10:15,10:15])\n",
        "print(torch.max(img_tensor), torch.min(img_tensor))"
      ],
      "metadata": {
        "colab": {
          "base_uri": "https://localhost:8080/"
        },
        "id": "nnlNEUMYeFgk",
        "outputId": "0a0c07db-db86-4b80-dd68-3dd1d9b6cbb9"
      },
      "execution_count": 11,
      "outputs": [
        {
          "output_type": "stream",
          "name": "stdout",
          "text": [
            "tensor([[[0.0039, 0.6039, 0.9922, 0.3529, 0.0000],\n",
            "         [0.0000, 0.5451, 0.9922, 0.7451, 0.0078],\n",
            "         [0.0000, 0.0431, 0.7451, 0.9922, 0.2745],\n",
            "         [0.0000, 0.0000, 0.1373, 0.9451, 0.8824],\n",
            "         [0.0000, 0.0000, 0.0000, 0.3176, 0.9412]]])\n",
            "tensor(1.) tensor(0.)\n"
          ]
        }
      ]
    },
    {
      "cell_type": "code",
      "source": [
        "# Plot the image by passing in the 28x28 matrix\n",
        "plt.imshow(img_tensor[0,10:15,10:15], cmap='gray');"
      ],
      "metadata": {
        "colab": {
          "base_uri": "https://localhost:8080/",
          "height": 430
        },
        "id": "CT4Ue_0Ge405",
        "outputId": "61a66a2b-87c0-4aae-8ed1-131418824c0e"
      },
      "execution_count": 12,
      "outputs": [
        {
          "output_type": "display_data",
          "data": {
            "text/plain": [
              "<Figure size 640x480 with 1 Axes>"
            ],
            "image/png": "[encoded data removed]"
          },
          "metadata": {}
        }
      ]
    },
    {
      "cell_type": "markdown",
      "source": [
        "#Training and Validation Datasets\n",
        "\n",
        "\n",
        "\n"
      ],
      "metadata": {
        "id": "apayI9hEf0Uz"
      }
    },
    {
      "cell_type": "code",
      "source": [
        "from torch.utils.data import random_split\n",
        "\n",
        "train_ds, val_ds = random_split(dataset, [50000, 10000])\n",
        "len(train_ds), len(val_ds)"
      ],
      "metadata": {
        "colab": {
          "base_uri": "https://localhost:8080/"
        },
        "id": "pmZAsy39f4CM",
        "outputId": "116a7c54-8ae4-4c62-ae6d-bcd5716d14a8"
      },
      "execution_count": 13,
      "outputs": [
        {
          "output_type": "execute_result",
          "data": {
            "text/plain": [
              "(50000, 10000)"
            ]
          },
          "metadata": {},
          "execution_count": 13
        }
      ]
    },
    {
      "cell_type": "code",
      "source": [
        "from torch.utils.data import DataLoader\n",
        "\n",
        "batch_size = 128\n",
        "\n",
        "train_loader = DataLoader(train_ds, batch_size, shuffle=True)\n",
        "val_loader = DataLoader(val_ds, batch_size)"
      ],
      "metadata": {
        "id": "TBMpM52Gg0tT"
      },
      "execution_count": 93,
      "outputs": []
    },
    {
      "cell_type": "markdown",
      "source": [
        "## Model\n",
        "\n",
        "Now that we have prepared our data loaders, we can define our model.\n",
        "\n",
        "* A **logistic regression** model is almost identical to a linear regression model. It contains weights and bias matrices, and the output is obtained using simple matrix operations (`pred = x @ w.t() + b`).\n",
        "\n",
        "* As we did with linear regression, we can use `nn.Linear` to create the model instead of manually creating and initializing the matrices.\n",
        "\n",
        "* Since `nn.Linear` expects each training example to be a vector, each `1x28x28` image tensor is _flattened_ into a vector of size 784 `(28*28)` before being passed into the model.\n",
        "\n",
        "* The output for each image is a vector of size 10, with each element signifying the probability of a particular target label (i.e., 0 to 9). The predicted label for an image is simply the one with the highest probability."
      ],
      "metadata": {
        "id": "1wVhhkt_hS6w"
      }
    },
    {
      "cell_type": "code",
      "source": [
        "import torch.nn as nn\n",
        "\n",
        "input_size = 28*28\n",
        "num_classes = 10\n",
        "\n",
        "# Logistic regression model\n",
        "model = nn.Linear(input_size, num_classes)"
      ],
      "metadata": {
        "id": "IDnNyWJqhZdw"
      },
      "execution_count": 94,
      "outputs": []
    },
    {
      "cell_type": "code",
      "source": [
        "print(model.weight.shape)\n",
        "model.weight"
      ],
      "metadata": {
        "colab": {
          "base_uri": "https://localhost:8080/"
        },
        "id": "JLSYiR1PjKLK",
        "outputId": "c3e9fe65-91c3-4be2-ebea-2906a55083e7"
      },
      "execution_count": 16,
      "outputs": [
        {
          "output_type": "stream",
          "name": "stdout",
          "text": [
            "torch.Size([10, 784])\n"
          ]
        },
        {
          "output_type": "execute_result",
          "data": {
            "text/plain": [
              "Parameter containing:\n",
              "tensor([[-0.0266,  0.0027, -0.0126,  ..., -0.0243, -0.0016, -0.0223],\n",
              "        [ 0.0136,  0.0109,  0.0163,  ..., -0.0301,  0.0304, -0.0012],\n",
              "        [-0.0296, -0.0250,  0.0229,  ..., -0.0165, -0.0284, -0.0131],\n",
              "        ...,\n",
              "        [-0.0042, -0.0264, -0.0068,  ..., -0.0104, -0.0263,  0.0043],\n",
              "        [-0.0089, -0.0098,  0.0093,  ...,  0.0068, -0.0129,  0.0331],\n",
              "        [ 0.0084, -0.0187, -0.0041,  ...,  0.0048,  0.0092,  0.0225]],\n",
              "       requires_grad=True)"
            ]
          },
          "metadata": {},
          "execution_count": 16
        }
      ]
    },
    {
      "cell_type": "code",
      "source": [
        "print(model.bias.shape)\n",
        "model.bias"
      ],
      "metadata": {
        "colab": {
          "base_uri": "https://localhost:8080/"
        },
        "id": "Jy4kjT-gkgVJ",
        "outputId": "d42e5f87-6156-49ce-a833-10b1dd097678"
      },
      "execution_count": 17,
      "outputs": [
        {
          "output_type": "stream",
          "name": "stdout",
          "text": [
            "torch.Size([10])\n"
          ]
        },
        {
          "output_type": "execute_result",
          "data": {
            "text/plain": [
              "Parameter containing:\n",
              "tensor([ 0.0207,  0.0261, -0.0039, -0.0315,  0.0250,  0.0110, -0.0105, -0.0326,\n",
              "         0.0306,  0.0234], requires_grad=True)"
            ]
          },
          "metadata": {},
          "execution_count": 17
        }
      ]
    },
    {
      "cell_type": "code",
      "source": [
        "for images, labels in train_loader:\n",
        "    print(labels)\n",
        "    print(images.shape)\n",
        "    # outputs = model(images)<-- This step caused an error, it was replaced by the two lines below:\n",
        "    # Reshape the images to a flattened vector\n",
        "    outputs = model(images.view(images.size(0), -1))\n",
        "    break"
      ],
      "metadata": {
        "colab": {
          "base_uri": "https://localhost:8080/"
        },
        "id": "a_1BtLV8kozj",
        "outputId": "224b89f0-42de-4c95-fbe9-27547c22394d"
      },
      "execution_count": 18,
      "outputs": [
        {
          "output_type": "stream",
          "name": "stdout",
          "text": [
            "tensor([0, 9, 4, 9, 4, 9, 3, 4, 2, 7, 4, 8, 7, 8, 5, 5, 6, 0, 0, 7, 1, 0, 4, 7,\n",
            "        5, 8, 9, 0, 5, 8, 2, 9, 0, 9, 5, 1, 3, 5, 2, 1, 2, 8, 8, 6, 9, 4, 4, 9,\n",
            "        3, 1, 1, 6, 3, 9, 3, 4, 3, 2, 1, 8, 5, 3, 1, 5, 0, 4, 3, 9, 3, 6, 2, 4,\n",
            "        5, 4, 5, 9, 9, 4, 0, 7, 0, 0, 8, 7, 5, 0, 1, 2, 2, 7, 1, 3, 3, 0, 6, 2,\n",
            "        0, 3, 7, 2, 5, 8, 5, 5, 0, 1, 8, 8, 9, 7, 6, 4, 3, 2, 1, 0, 6, 0, 2, 8,\n",
            "        3, 9, 4, 3, 7, 4, 8, 7])\n",
            "torch.Size([128, 1, 28, 28])\n"
          ]
        }
      ]
    },
    {
      "cell_type": "markdown",
      "source": [
        "The code above leads to an error because our input data does not have the right shape. Our images are of the shape 1x28x28, but we need them to be vectors of size 784, i.e., we need to flatten them. We'll use the `.reshape` method of a tensor, which will allow us to efficiently 'view' each image as a flat vector without really creating a copy of the underlying data."
      ],
      "metadata": {
        "id": "F4_6rccpmopL"
      }
    },
    {
      "cell_type": "code",
      "source": [
        "images.shape"
      ],
      "metadata": {
        "colab": {
          "base_uri": "https://localhost:8080/"
        },
        "id": "-_S1iMgkmsX_",
        "outputId": "057171fa-8b81-421c-c0b1-73646b1cf9ed"
      },
      "execution_count": 19,
      "outputs": [
        {
          "output_type": "execute_result",
          "data": {
            "text/plain": [
              "torch.Size([128, 1, 28, 28])"
            ]
          },
          "metadata": {},
          "execution_count": 19
        }
      ]
    },
    {
      "cell_type": "code",
      "source": [
        "images.reshape(128, 784).shape"
      ],
      "metadata": {
        "colab": {
          "base_uri": "https://localhost:8080/"
        },
        "id": "fMmf0TgdnQys",
        "outputId": "3b6401d6-2323-42f1-e4fd-adb18031993e"
      },
      "execution_count": 20,
      "outputs": [
        {
          "output_type": "execute_result",
          "data": {
            "text/plain": [
              "torch.Size([128, 784])"
            ]
          },
          "metadata": {},
          "execution_count": 20
        }
      ]
    },
    {
      "cell_type": "markdown",
      "source": [
        "#Note: Creating a class with python"
      ],
      "metadata": {
        "id": "nwL_L50bn1nj"
      }
    },
    {
      "cell_type": "code",
      "source": [
        "class Person:\n",
        "    # Class constructor\n",
        "    def __init__(self, name, age):\n",
        "        # Object properties\n",
        "        self.name = name\n",
        "        self.age = age\n",
        "\n",
        "    # Method\n",
        "    def say_hello(self):\n",
        "        print(\"Hello my name is \" + self.name + \"!\")"
      ],
      "metadata": {
        "id": "9pvi5-76n-GJ"
      },
      "execution_count": 39,
      "outputs": []
    },
    {
      "cell_type": "code",
      "source": [
        "bob = Person(\"Bob\", 32)"
      ],
      "metadata": {
        "id": "1c9QJznmoEqn"
      },
      "execution_count": 40,
      "outputs": []
    },
    {
      "cell_type": "code",
      "source": [
        "bob.name, bob.age"
      ],
      "metadata": {
        "colab": {
          "base_uri": "https://localhost:8080/"
        },
        "id": "C4M6Gd3poI_O",
        "outputId": "59f1d211-1e5f-4c11-b89e-1afc0f67db45"
      },
      "execution_count": 41,
      "outputs": [
        {
          "output_type": "execute_result",
          "data": {
            "text/plain": [
              "('Bob', 32)"
            ]
          },
          "metadata": {},
          "execution_count": 41
        }
      ]
    },
    {
      "cell_type": "code",
      "source": [
        "bob.say_hello()"
      ],
      "metadata": {
        "colab": {
          "base_uri": "https://localhost:8080/"
        },
        "id": "UnfwWf9FoTAa",
        "outputId": "81b74cc8-382e-48fe-c975-48aa4ac4cb70"
      },
      "execution_count": 42,
      "outputs": [
        {
          "output_type": "stream",
          "name": "stdout",
          "text": [
            "Hello my name is Bob!\n"
          ]
        }
      ]
    },
    {
      "cell_type": "markdown",
      "source": [
        "You can learn more about Python classes here: https://www.w3schools.com/python/python_classes.asp .\n",
        "\n"
      ],
      "metadata": {
        "id": "dBO2k3QRotw2"
      }
    },
    {
      "cell_type": "markdown",
      "source": [],
      "metadata": {
        "id": "nafVD9I7oyNs"
      }
    },
    {
      "cell_type": "markdown",
      "source": [],
      "metadata": {
        "id": "MJqFDxMAo3iP"
      }
    },
    {
      "cell_type": "markdown",
      "source": [
        "#Let's continue"
      ],
      "metadata": {
        "id": "YPcoMUrio6ja"
      }
    },
    {
      "cell_type": "code",
      "source": [
        "class MnistModel(nn.Module):\n",
        "    def __init__(self):\n",
        "        super().__init__()\n",
        "        self.linear = nn.Linear(input_size, num_classes)\n",
        "\n",
        "    def forward(self, xb):\n",
        "        xb = xb.reshape(-1, 784)\n",
        "        out = self.linear(xb)\n",
        "        return out\n",
        "\n",
        "model = MnistModel()"
      ],
      "metadata": {
        "id": "FpKsB5u0o-J2"
      },
      "execution_count": 21,
      "outputs": []
    },
    {
      "cell_type": "code",
      "source": [
        "model.linear"
      ],
      "metadata": {
        "colab": {
          "base_uri": "https://localhost:8080/"
        },
        "id": "pk1aWoILKuKy",
        "outputId": "52aa0a46-a233-45b1-ca5b-daeeba9b2d93"
      },
      "execution_count": 22,
      "outputs": [
        {
          "output_type": "execute_result",
          "data": {
            "text/plain": [
              "Linear(in_features=784, out_features=10, bias=True)"
            ]
          },
          "metadata": {},
          "execution_count": 22
        }
      ]
    },
    {
      "cell_type": "code",
      "source": [
        "print(model.linear.weight.shape, model.linear.bias.shape)\n",
        "list(model.parameters())"
      ],
      "metadata": {
        "colab": {
          "base_uri": "https://localhost:8080/"
        },
        "id": "rc4kbfHeKycC",
        "outputId": "2fa741f7-5d2e-4ae9-d73c-8ed22c3e02da"
      },
      "execution_count": 23,
      "outputs": [
        {
          "output_type": "stream",
          "name": "stdout",
          "text": [
            "torch.Size([10, 784]) torch.Size([10])\n"
          ]
        },
        {
          "output_type": "execute_result",
          "data": {
            "text/plain": [
              "[Parameter containing:\n",
              " tensor([[ 0.0120,  0.0145, -0.0243,  ..., -0.0230,  0.0251, -0.0311],\n",
              "         [ 0.0107,  0.0108,  0.0212,  ..., -0.0258, -0.0214, -0.0033],\n",
              "         [ 0.0179, -0.0124,  0.0309,  ...,  0.0266, -0.0157, -0.0350],\n",
              "         ...,\n",
              "         [ 0.0047,  0.0193,  0.0216,  ..., -0.0073,  0.0103,  0.0040],\n",
              "         [-0.0347, -0.0225, -0.0356,  ...,  0.0093, -0.0269, -0.0106],\n",
              "         [ 0.0102, -0.0057,  0.0320,  ..., -0.0248, -0.0196, -0.0287]],\n",
              "        requires_grad=True),\n",
              " Parameter containing:\n",
              " tensor([ 0.0025, -0.0206,  0.0222,  0.0121, -0.0335, -0.0146,  0.0086,  0.0009,\n",
              "          0.0349, -0.0266], requires_grad=True)]"
            ]
          },
          "metadata": {},
          "execution_count": 23
        }
      ]
    },
    {
      "cell_type": "code",
      "source": [
        "for images, labels in train_loader:\n",
        "    outputs = model(images)\n",
        "    break\n",
        "\n",
        "print('outputs.shape : ', outputs.shape)\n",
        "print('Sample outputs :\\n', outputs[:2].data)"
      ],
      "metadata": {
        "colab": {
          "base_uri": "https://localhost:8080/"
        },
        "id": "C05bPQklK_Ij",
        "outputId": "3388fa7c-1119-44f7-e34d-0e345822a7f1"
      },
      "execution_count": 24,
      "outputs": [
        {
          "output_type": "stream",
          "name": "stdout",
          "text": [
            "outputs.shape :  torch.Size([128, 10])\n",
            "Sample outputs :\n",
            " tensor([[-0.4229,  0.1846, -0.0987, -0.4609, -0.0032, -0.4371,  0.1222,  0.0670,\n",
            "         -0.0526,  0.1134],\n",
            "        [ 0.0545,  0.2039,  0.0434, -0.1890, -0.1330, -0.2632,  0.1668, -0.0479,\n",
            "         -0.0201,  0.0629]])\n"
          ]
        }
      ]
    },
    {
      "cell_type": "code",
      "source": [
        "import torch.nn.functional as F"
      ],
      "metadata": {
        "id": "dFg5NvV2LoTB"
      },
      "execution_count": 25,
      "outputs": []
    },
    {
      "cell_type": "markdown",
      "source": [
        "We will use the softmax function to convert the outputs to positive and normalise them between 0 and 1."
      ],
      "metadata": {
        "id": "eRV2qeYLLuZy"
      }
    },
    {
      "cell_type": "markdown",
      "source": [
        "For each of the 100 input images, we get 10 outputs, one for each class. As discussed earlier, we'd like these outputs to represent probabilities. Each output row's elements must lie between 0 to 1 and add up to 1, which is not the case.\n",
        "\n",
        "To convert the output rows into probabilities, we use the softmax function, which has the following formula:\n",
        "\n",
        "![softmax](https://i.imgur.com/EAh9jLN.png)\n",
        "\n",
        "First, we replace each element `yi` in an output row by `e^yi`, making all the elements positive.\n",
        "\n",
        "![](https://www.montereyinstitute.org/courses/DevelopmentalMath/COURSE_TEXT2_RESOURCE/U18_L1_T1_text_final_6_files/image001.png)\n",
        "\n",
        "\n",
        "\n",
        "Then, we divide them by their sum to ensure that they add up to 1. The resulting vector can thus be interpreted as probabilities.\n",
        "\n",
        "While it's easy to implement the softmax function (you should try it!), we'll use the implementation that's provided within PyTorch because it works well with multidimensional tensors (a list of output rows in our case)."
      ],
      "metadata": {
        "id": "guVTOkpDMWiZ"
      }
    },
    {
      "cell_type": "code",
      "source": [
        "# Apply softmax for each output row\n",
        "probs = F.softmax(outputs, dim=1)\n",
        "\n",
        "# Look at sample probabilities\n",
        "print(\"Sample probabilities:\\n\", probs[:2].data)\n",
        "\n",
        "# Add up the probabilities of an output row\n",
        "print(\"Sum: \", torch.sum(probs[0]).item())"
      ],
      "metadata": {
        "colab": {
          "base_uri": "https://localhost:8080/"
        },
        "id": "7zpMvtOsL6ID",
        "outputId": "0d3d224b-13ae-4e29-f66d-fe366eefc951"
      },
      "execution_count": 26,
      "outputs": [
        {
          "output_type": "stream",
          "name": "stdout",
          "text": [
            "Sample probabilities:\n",
            " tensor([[0.0704, 0.1292, 0.0974, 0.0678, 0.1071, 0.0694, 0.1214, 0.1149, 0.1020,\n",
            "         0.1204],\n",
            "        [0.1058, 0.1229, 0.1047, 0.0830, 0.0877, 0.0770, 0.1184, 0.0955, 0.0982,\n",
            "         0.1067]])\n",
            "Sum:  0.9999998807907104\n"
          ]
        }
      ]
    },
    {
      "cell_type": "code",
      "source": [
        "max_probs, preds = torch.max(probs, dim=1)\n",
        "print(preds)\n",
        "print(max_probs)"
      ],
      "metadata": {
        "colab": {
          "base_uri": "https://localhost:8080/"
        },
        "id": "VkLJAuSiNm3x",
        "outputId": "d1fc967a-87ad-4036-cf47-9d44eea8521c"
      },
      "execution_count": 27,
      "outputs": [
        {
          "output_type": "stream",
          "name": "stdout",
          "text": [
            "tensor([1, 1, 1, 6, 8, 7, 4, 6, 7, 7, 6, 2, 7, 5, 6, 9, 6, 6, 4, 4, 7, 6, 1, 4,\n",
            "        9, 8, 1, 7, 7, 3, 8, 6, 9, 6, 1, 1, 5, 6, 0, 4, 6, 7, 8, 6, 8, 6, 7, 4,\n",
            "        6, 7, 6, 6, 8, 6, 6, 8, 6, 2, 4, 6, 1, 9, 8, 8, 6, 7, 7, 6, 9, 6, 8, 8,\n",
            "        6, 6, 6, 7, 1, 9, 8, 6, 1, 4, 4, 5, 6, 6, 8, 7, 8, 1, 7, 7, 7, 8, 9, 1,\n",
            "        1, 8, 6, 6, 6, 7, 7, 9, 6, 6, 1, 5, 0, 1, 4, 4, 6, 9, 8, 6, 6, 4, 1, 4,\n",
            "        6, 6, 1, 8, 8, 6, 7, 9])\n",
            "tensor([0.1292, 0.1229, 0.1265, 0.1246, 0.1140, 0.1322, 0.1252, 0.1449, 0.1178,\n",
            "        0.1263, 0.1545, 0.1089, 0.1242, 0.1175, 0.1335, 0.1273, 0.1321, 0.1194,\n",
            "        0.1175, 0.1139, 0.1401, 0.1204, 0.1239, 0.1247, 0.1160, 0.1218, 0.1384,\n",
            "        0.1329, 0.1319, 0.1119, 0.1212, 0.1484, 0.1163, 0.1375, 0.1266, 0.1359,\n",
            "        0.1241, 0.1329, 0.1179, 0.1296, 0.1220, 0.1220, 0.1267, 0.1315, 0.1382,\n",
            "        0.1347, 0.1366, 0.1156, 0.1327, 0.1279, 0.1249, 0.1156, 0.1245, 0.1193,\n",
            "        0.1343, 0.1392, 0.1444, 0.1155, 0.1314, 0.1437, 0.1263, 0.1295, 0.1313,\n",
            "        0.1097, 0.1516, 0.1206, 0.1318, 0.1202, 0.1298, 0.1364, 0.1265, 0.1311,\n",
            "        0.1236, 0.1276, 0.1265, 0.1348, 0.1265, 0.1235, 0.1300, 0.1454, 0.1553,\n",
            "        0.1308, 0.1251, 0.1310, 0.1224, 0.1363, 0.1122, 0.1324, 0.1250, 0.1354,\n",
            "        0.1321, 0.1527, 0.1541, 0.1187, 0.1431, 0.1295, 0.1386, 0.1350, 0.1301,\n",
            "        0.1260, 0.1354, 0.1505, 0.1232, 0.1265, 0.1275, 0.1345, 0.1384, 0.1295,\n",
            "        0.1421, 0.1170, 0.1237, 0.1324, 0.1394, 0.1156, 0.1401, 0.1419, 0.1336,\n",
            "        0.1358, 0.1256, 0.1211, 0.1300, 0.1376, 0.1301, 0.1305, 0.1270, 0.1390,\n",
            "        0.1190, 0.1095], grad_fn=<MaxBackward0>)\n"
          ]
        }
      ]
    },
    {
      "cell_type": "code",
      "source": [
        "labels"
      ],
      "metadata": {
        "colab": {
          "base_uri": "https://localhost:8080/"
        },
        "id": "vMtltmqCN93k",
        "outputId": "993a5b21-ba96-46af-893e-b47c3c1eec5f"
      },
      "execution_count": 28,
      "outputs": [
        {
          "output_type": "execute_result",
          "data": {
            "text/plain": [
              "tensor([8, 7, 6, 9, 9, 7, 2, 2, 1, 3, 2, 9, 7, 1, 6, 7, 3, 2, 9, 1, 5, 4, 3, 1,\n",
              "        9, 1, 8, 5, 8, 7, 9, 4, 6, 5, 8, 7, 6, 3, 4, 5, 6, 1, 5, 5, 2, 1, 0, 7,\n",
              "        7, 7, 3, 7, 8, 9, 7, 4, 0, 1, 1, 3, 5, 9, 9, 7, 8, 5, 0, 1, 7, 4, 7, 1,\n",
              "        5, 3, 0, 0, 7, 3, 3, 5, 7, 1, 1, 2, 2, 2, 4, 0, 3, 8, 2, 5, 5, 2, 4, 3,\n",
              "        3, 1, 3, 1, 5, 7, 2, 0, 4, 6, 7, 2, 4, 1, 1, 1, 1, 6, 9, 0, 0, 1, 6, 7,\n",
              "        2, 2, 7, 7, 9, 4, 1, 6])"
            ]
          },
          "metadata": {},
          "execution_count": 28
        }
      ]
    },
    {
      "cell_type": "markdown",
      "source": [
        "There is no relation between pred and labels because we have not evaluated the loss function.\n"
      ],
      "metadata": {
        "id": "Rym9FjTsOHrR"
      }
    },
    {
      "cell_type": "markdown",
      "source": [
        "# Evaluation Metric and Loss Function"
      ],
      "metadata": {
        "id": "Hy0xJE0fOR8B"
      }
    },
    {
      "cell_type": "code",
      "source": [
        "outputs\n"
      ],
      "metadata": {
        "colab": {
          "base_uri": "https://localhost:8080/"
        },
        "id": "rcRMMveRPWKU",
        "outputId": "34802c40-a92e-4684-ee1c-1de6f0d67a14"
      },
      "execution_count": 33,
      "outputs": [
        {
          "output_type": "execute_result",
          "data": {
            "text/plain": [
              "tensor([[-0.4229,  0.1846, -0.0987,  ...,  0.0670, -0.0526,  0.1134],\n",
              "        [ 0.0545,  0.2039,  0.0434,  ..., -0.0479, -0.0201,  0.0629],\n",
              "        [-0.0620,  0.1770, -0.1221,  ...,  0.0325, -0.0933,  0.0411],\n",
              "        ...,\n",
              "        [-0.0101,  0.2206, -0.2856,  ..., -0.2037, -0.0486,  0.1314],\n",
              "        [-0.3003, -0.1639,  0.0207,  ...,  0.1023,  0.0015, -0.1516],\n",
              "        [-0.0006, -0.0117,  0.0011,  ..., -0.2589, -0.1298,  0.0221]],\n",
              "       grad_fn=<AddmmBackward0>)"
            ]
          },
          "metadata": {},
          "execution_count": 33
        }
      ]
    },
    {
      "cell_type": "code",
      "source": [
        "preds = torch.max(outputs, dim=1)\n",
        "preds"
      ],
      "metadata": {
        "colab": {
          "base_uri": "https://localhost:8080/"
        },
        "id": "rL58nibSPtwp",
        "outputId": "52e87ad5-1702-4375-eebd-b143c0a34f8f"
      },
      "execution_count": 35,
      "outputs": [
        {
          "output_type": "execute_result",
          "data": {
            "text/plain": [
              "torch.return_types.max(\n",
              "values=tensor([0.1846, 0.2039, 0.1770, 0.2091, 0.0718, 0.3095, 0.1876, 0.4590, 0.0566,\n",
              "        0.1672, 0.4904, 0.0201, 0.1647, 0.1262, 0.1913, 0.2281, 0.2535, 0.1950,\n",
              "        0.0725, 0.0463, 0.3064, 0.1145, 0.2060, 0.2125, 0.0619, 0.1597, 0.3222,\n",
              "        0.2281, 0.2486, 0.0658, 0.1932, 0.4546, 0.0587, 0.2995, 0.2292, 0.2777,\n",
              "        0.1371, 0.2379, 0.0988, 0.1866, 0.2066, 0.1287, 0.2109, 0.1453, 0.2528,\n",
              "        0.1913, 0.3013, 0.1501, 0.2743, 0.2051, 0.2275, 0.0879, 0.1237, 0.0791,\n",
              "        0.1834, 0.3475, 0.3725, 0.1040, 0.2236, 0.3431, 0.1877, 0.1593, 0.2137,\n",
              "        0.0483, 0.4114, 0.1353, 0.3306, 0.1299, 0.2041, 0.2940, 0.2031, 0.1957,\n",
              "        0.2243, 0.1607, 0.2621, 0.3081, 0.2134, 0.1400, 0.2253, 0.3774, 0.4161,\n",
              "        0.2111, 0.2040, 0.3055, 0.1533, 0.3245, 0.0423, 0.1724, 0.2206, 0.1894,\n",
              "        0.2291, 0.4639, 0.4131, 0.0613, 0.2781, 0.2535, 0.2896, 0.2482, 0.2207,\n",
              "        0.2213, 0.3051, 0.4092, 0.1800, 0.2948, 0.1447, 0.2431, 0.3185, 0.3055,\n",
              "        0.2747, 0.0785, 0.1870, 0.2434, 0.2846, 0.0361, 0.3047, 0.2610, 0.3247,\n",
              "        0.2600, 0.1736, 0.1366, 0.2703, 0.2873, 0.1763, 0.2194, 0.2160, 0.2506,\n",
              "        0.1023, 0.0221], grad_fn=<MaxBackward0>),\n",
              "indices=tensor([1, 1, 1, 6, 8, 7, 4, 6, 7, 7, 6, 2, 7, 5, 6, 9, 6, 6, 4, 4, 7, 6, 1, 4,\n",
              "        9, 8, 1, 7, 7, 3, 8, 6, 9, 6, 1, 1, 5, 6, 0, 4, 6, 7, 8, 6, 8, 6, 7, 4,\n",
              "        6, 7, 6, 6, 8, 6, 6, 8, 6, 2, 4, 6, 1, 9, 8, 8, 6, 7, 7, 6, 9, 6, 8, 8,\n",
              "        6, 6, 6, 7, 1, 9, 8, 6, 1, 4, 4, 5, 6, 6, 8, 7, 8, 1, 7, 7, 7, 8, 9, 1,\n",
              "        1, 8, 6, 6, 6, 7, 7, 9, 6, 6, 1, 5, 0, 1, 4, 4, 6, 9, 8, 6, 6, 4, 1, 4,\n",
              "        6, 6, 1, 8, 8, 6, 7, 9]))"
            ]
          },
          "metadata": {},
          "execution_count": 35
        }
      ]
    },
    {
      "cell_type": "code",
      "source": [
        "torch.sum(preds.indices==labels)"
      ],
      "metadata": {
        "colab": {
          "base_uri": "https://localhost:8080/"
        },
        "id": "QH1jsDfeQE8e",
        "outputId": "4369aea7-d9b1-43a7-cd0e-cacee136903e"
      },
      "execution_count": 45,
      "outputs": [
        {
          "output_type": "execute_result",
          "data": {
            "text/plain": [
              "tensor(11)"
            ]
          },
          "metadata": {},
          "execution_count": 45
        }
      ]
    },
    {
      "cell_type": "code",
      "source": [
        "torch.sum(preds.indices==labels).item()"
      ],
      "metadata": {
        "colab": {
          "base_uri": "https://localhost:8080/"
        },
        "id": "Ln-OX5hlavOg",
        "outputId": "5daa3570-6b18-4cb9-8af8-955cd21a7631"
      },
      "execution_count": 47,
      "outputs": [
        {
          "output_type": "execute_result",
          "data": {
            "text/plain": [
              "11"
            ]
          },
          "metadata": {},
          "execution_count": 47
        }
      ]
    },
    {
      "cell_type": "code",
      "source": [
        "len(preds.indices)"
      ],
      "metadata": {
        "colab": {
          "base_uri": "https://localhost:8080/"
        },
        "id": "Yiv3f2xza2SW",
        "outputId": "238cae3a-72ec-4a53-f44b-fbe713ba03f0"
      },
      "execution_count": 49,
      "outputs": [
        {
          "output_type": "execute_result",
          "data": {
            "text/plain": [
              "128"
            ]
          },
          "metadata": {},
          "execution_count": 49
        }
      ]
    },
    {
      "cell_type": "code",
      "source": [
        "def accuracy(outputs, labels):\n",
        "    _, preds = torch.max(outputs, dim=1)\n",
        "    return torch.tensor(torch.sum(preds == labels).item() / len(preds))"
      ],
      "metadata": {
        "id": "ktBK25S4OZdF"
      },
      "execution_count": 54,
      "outputs": []
    },
    {
      "cell_type": "code",
      "source": [
        "_, preds = torch.max(outputs, dim=1)"
      ],
      "metadata": {
        "id": "56-FP-h4b_Vp"
      },
      "execution_count": 56,
      "outputs": []
    },
    {
      "cell_type": "code",
      "source": [
        "preds"
      ],
      "metadata": {
        "colab": {
          "base_uri": "https://localhost:8080/"
        },
        "id": "XNEyvc97cCeG",
        "outputId": "78033a3b-b116-4f9f-82eb-4f14a4471157"
      },
      "execution_count": 57,
      "outputs": [
        {
          "output_type": "execute_result",
          "data": {
            "text/plain": [
              "tensor([1, 1, 1, 6, 8, 7, 4, 6, 7, 7, 6, 2, 7, 5, 6, 9, 6, 6, 4, 4, 7, 6, 1, 4,\n",
              "        9, 8, 1, 7, 7, 3, 8, 6, 9, 6, 1, 1, 5, 6, 0, 4, 6, 7, 8, 6, 8, 6, 7, 4,\n",
              "        6, 7, 6, 6, 8, 6, 6, 8, 6, 2, 4, 6, 1, 9, 8, 8, 6, 7, 7, 6, 9, 6, 8, 8,\n",
              "        6, 6, 6, 7, 1, 9, 8, 6, 1, 4, 4, 5, 6, 6, 8, 7, 8, 1, 7, 7, 7, 8, 9, 1,\n",
              "        1, 8, 6, 6, 6, 7, 7, 9, 6, 6, 1, 5, 0, 1, 4, 4, 6, 9, 8, 6, 6, 4, 1, 4,\n",
              "        6, 6, 1, 8, 8, 6, 7, 9])"
            ]
          },
          "metadata": {},
          "execution_count": 57
        }
      ]
    },
    {
      "cell_type": "markdown",
      "source": [
        "accuracy2 is another version of accuracy, please note in accuracy, preds is the second matrix, but in accuracy2 preds contains both matrixes 'tensor' and 'indices'.\n",
        "\n"
      ],
      "metadata": {
        "id": "7FxeZzO5cbsU"
      }
    },
    {
      "cell_type": "code",
      "source": [
        "def accuracy2(outputs, labels):\n",
        "    preds = torch.max(outputs, dim=1)\n",
        "    return torch.tensor(torch.sum(preds.indices == labels).item() / len(preds.indices))"
      ],
      "metadata": {
        "id": "wb-7zDa5cK9Y"
      },
      "execution_count": 58,
      "outputs": []
    },
    {
      "cell_type": "code",
      "source": [
        "accuracy(outputs, labels)"
      ],
      "metadata": {
        "colab": {
          "base_uri": "https://localhost:8080/"
        },
        "id": "CKYH4jN_bEIv",
        "outputId": "3bc0d859-6d23-46a8-9c5d-4bd1c2b21d46"
      },
      "execution_count": 55,
      "outputs": [
        {
          "output_type": "execute_result",
          "data": {
            "text/plain": [
              "tensor(0.0859)"
            ]
          },
          "metadata": {},
          "execution_count": 55
        }
      ]
    },
    {
      "cell_type": "code",
      "source": [
        "accuracy2(outputs, labels)"
      ],
      "metadata": {
        "colab": {
          "base_uri": "https://localhost:8080/"
        },
        "id": "lD09r7C-cUiL",
        "outputId": "9d36782f-24b0-4095-dc64-f99f3972e560"
      },
      "execution_count": 59,
      "outputs": [
        {
          "output_type": "execute_result",
          "data": {
            "text/plain": [
              "tensor(0.0859)"
            ]
          },
          "metadata": {},
          "execution_count": 59
        }
      ]
    },
    {
      "cell_type": "markdown",
      "source": [
        "Accuracy is an excellent way for us (humans) to evaluate the model. However, we can't use it as a loss function for optimizing our model using gradient descent for the following reasons:\n",
        "\n",
        "1. It's not a differentiable function. `torch.max` and `==` are both non-continuous and non-differentiable operations, so we can't use the accuracy for computing gradients w.r.t the weights and biases.\n",
        "\n",
        "2. It doesn't take into account the actual probabilities predicted by the model, so it can't provide sufficient feedback for incremental improvements.\n",
        "\n",
        "For these reasons, accuracy is often used as an **evaluation metric** for classification, but not as a loss function. A commonly used loss function for classification problems is the **cross-entropy**, which has the following formula:\n",
        "\n",
        "![cross-entropy](https://i.imgur.com/VDRDl1D.png)\n",
        "\n",
        "While it looks complicated, it's actually quite simple:\n",
        "\n",
        "* For each output row, pick the predicted probability for the correct label. E.g., if the predicted probabilities for an image are `[0.1, 0.3, 0.2, ...]` and the correct label is `1`, we pick the corresponding element `0.3` and ignore the rest.\n",
        "\n",
        "* Then, take the [logarithm](https://en.wikipedia.org/wiki/Logarithm) of the picked probability. If the probability is high, i.e., close to 1, then its logarithm is a very small negative value, close to 0. And if the probability is low (close to 0), then the logarithm is a very large negative value. We also multiply the result by -1, which results is a large postive value of the loss for poor predictions.\n",
        "\n",
        "![](https://www.intmath.com/blog/wp-content/images/2019/05/log10.png)\n",
        "\n",
        "* Finally, take the average of the cross entropy across all the output rows to get the overall loss for a batch of data.\n",
        "\n",
        "Unlike accuracy, cross-entropy is a continuous and differentiable function. It also provides useful feedback for incremental improvements in the model (a slightly higher probability for the correct label leads to a lower loss). These two factors make cross-entropy a better choice for the loss function.\n",
        "\n",
        "As you might expect, PyTorch provides an efficient and tensor-friendly implementation of cross-entropy as part of the `torch.nn.functional` package. Moreover, it also performs softmax internally, so we can directly pass in the model's outputs without converting them into probabilities."
      ],
      "metadata": {
        "id": "nQ91Q9LQdLTo"
      }
    },
    {
      "cell_type": "code",
      "source": [
        "loss_fn = F.cross_entropy"
      ],
      "metadata": {
        "id": "hBsSBbUddNvd"
      },
      "execution_count": 60,
      "outputs": []
    },
    {
      "cell_type": "code",
      "source": [
        "# Loss for current batch of data\n",
        "loss = loss_fn(outputs, labels)\n",
        "print(loss)"
      ],
      "metadata": {
        "colab": {
          "base_uri": "https://localhost:8080/"
        },
        "id": "5YNwiZZud7Rd",
        "outputId": "df332593-c11d-420a-915b-cdf27d041f7f"
      },
      "execution_count": 61,
      "outputs": [
        {
          "output_type": "stream",
          "name": "stdout",
          "text": [
            "tensor(2.3171, grad_fn=<NllLossBackward0>)\n"
          ]
        }
      ]
    },
    {
      "cell_type": "markdown",
      "source": [
        "## Training the model\n",
        "\n",
        "Now that we have defined the data loaders, model, loss function and optimizer, we are ready to train the model. The training process is identical to linear regression, with the addition of a \"validation phase\" to evaluate the model in each epoch. Here's what it looks like in pseudocode:\n",
        "\n",
        "```\n",
        "for epoch in range(num_epochs):\n",
        "    # Training phase\n",
        "    for batch in train_loader:\n",
        "        # Generate predictions\n",
        "        # Calculate loss\n",
        "        # Compute gradients\n",
        "        # Update weights\n",
        "        # Reset gradients\n",
        "    \n",
        "    # Validation phase\n",
        "    for batch in val_loader:\n",
        "        # Generate predictions\n",
        "        # Calculate loss\n",
        "        # Calculate metrics (accuracy etc.)\n",
        "    # Calculate average validation loss & metrics\n",
        "    \n",
        "    # Log epoch, loss & metrics for inspection\n",
        "```\n",
        "\n",
        "Some parts of the training loop are specific the specific problem we're solving (e.g. loss function, metrics etc.) whereas others are generic and can be applied to any deep learning problem.\n",
        "\n",
        "We'll include the problem-independent parts within a function called `fit`, which will be used to train the model. The problem-specific parts will be implemented by adding new methods to the `nn.Module` class.\n"
      ],
      "metadata": {
        "id": "kZzWLZl7eJft"
      }
    },
    {
      "cell_type": "code",
      "source": [
        "def fit(epochs, lr, model, train_loader, val_loader, opt_func=torch.optim.SGD):\n",
        "    optimizer = opt_func(model.parameters(), lr)\n",
        "    history = [] # for recording epoch-wise results\n",
        "\n",
        "    for epoch in range(epochs):\n",
        "\n",
        "        # Training Phase\n",
        "        for batch in train_loader:\n",
        "            loss = model.training_step(batch)\n",
        "            loss.backward()\n",
        "            optimizer.step()\n",
        "            optimizer.zero_grad()\n",
        "\n",
        "        # Validation phase\n",
        "        result = evaluate(model, val_loader)\n",
        "        model.epoch_end(epoch, result)\n",
        "        history.append(result)\n",
        "\n",
        "    return history"
      ],
      "metadata": {
        "id": "HjzRISLWf-pr"
      },
      "execution_count": 62,
      "outputs": []
    },
    {
      "cell_type": "markdown",
      "source": [
        "#list comprehension in Python"
      ],
      "metadata": {
        "id": "HvQZuCcClCD7"
      }
    },
    {
      "cell_type": "code",
      "source": [
        "l1=[1,2,3,4]"
      ],
      "metadata": {
        "id": "pls9qglIix7i"
      },
      "execution_count": 70,
      "outputs": []
    },
    {
      "cell_type": "code",
      "source": [
        "l2 =[x*2 for x in l1]\n",
        "l2"
      ],
      "metadata": {
        "colab": {
          "base_uri": "https://localhost:8080/"
        },
        "id": "eb7dLotBlGb7",
        "outputId": "a0fdfb68-2d5a-4fc9-bf6e-c9226eb771da"
      },
      "execution_count": 76,
      "outputs": [
        {
          "output_type": "execute_result",
          "data": {
            "text/plain": [
              "[2, 4, 6, 8]"
            ]
          },
          "metadata": {},
          "execution_count": 76
        }
      ]
    },
    {
      "cell_type": "markdown",
      "source": [
        "#Let's continue with the *evaluate* function"
      ],
      "metadata": {
        "id": "bZ52UuIalkY1"
      }
    },
    {
      "cell_type": "code",
      "source": [
        "def evaluate(model, val_loader):\n",
        "    outputs = [model.validation_step(batch) for batch in val_loader]\n",
        "    return model.validation_epoch_end(outputs)"
      ],
      "metadata": {
        "id": "VZW1zdB9iwxu"
      },
      "execution_count": 77,
      "outputs": []
    },
    {
      "cell_type": "code",
      "source": [
        "outputs = [model.validation_step(batch) for batch in val_loader]"
      ],
      "metadata": {
        "colab": {
          "base_uri": "https://localhost:8080/",
          "height": 263
        },
        "id": "THblbn6xl0xs",
        "outputId": "b23185d0-aa1e-4d8d-ce73-5901a5420765"
      },
      "execution_count": 78,
      "outputs": [
        {
          "output_type": "error",
          "ename": "AttributeError",
          "evalue": "'MnistModel' object has no attribute 'validation_step'",
          "traceback": [
            "\u001b[0;31m---------------------------------------------------------------------------\u001b[0m",
            "\u001b[0;31mAttributeError\u001b[0m                            Traceback (most recent call last)",
            "\u001b[0;32m/tmp/ipython-input-2950749485.py\u001b[0m in \u001b[0;36m<cell line: 0>\u001b[0;34m()\u001b[0m\n\u001b[0;32m----> 1\u001b[0;31m \u001b[0moutputs\u001b[0m \u001b[0;34m=\u001b[0m \u001b[0;34m[\u001b[0m\u001b[0mmodel\u001b[0m\u001b[0;34m.\u001b[0m\u001b[0mvalidation_step\u001b[0m\u001b[0;34m(\u001b[0m\u001b[0mbatch\u001b[0m\u001b[0;34m)\u001b[0m \u001b[0;32mfor\u001b[0m \u001b[0mbatch\u001b[0m \u001b[0;32min\u001b[0m \u001b[0mval_loader\u001b[0m\u001b[0;34m]\u001b[0m\u001b[0;34m\u001b[0m\u001b[0;34m\u001b[0m\u001b[0m\n\u001b[0m",
            "\u001b[0;32m/usr/local/lib/python3.12/dist-packages/torch/nn/modules/module.py\u001b[0m in \u001b[0;36m__getattr__\u001b[0;34m(self, name)\u001b[0m\n\u001b[1;32m   1960\u001b[0m             \u001b[0;32mif\u001b[0m \u001b[0mname\u001b[0m \u001b[0;32min\u001b[0m \u001b[0mmodules\u001b[0m\u001b[0;34m:\u001b[0m\u001b[0;34m\u001b[0m\u001b[0;34m\u001b[0m\u001b[0m\n\u001b[1;32m   1961\u001b[0m                 \u001b[0;32mreturn\u001b[0m \u001b[0mmodules\u001b[0m\u001b[0;34m[\u001b[0m\u001b[0mname\u001b[0m\u001b[0;34m]\u001b[0m\u001b[0;34m\u001b[0m\u001b[0;34m\u001b[0m\u001b[0m\n\u001b[0;32m-> 1962\u001b[0;31m         raise AttributeError(\n\u001b[0m\u001b[1;32m   1963\u001b[0m             \u001b[0;34mf\"'{type(self).__name__}' object has no attribute '{name}'\"\u001b[0m\u001b[0;34m\u001b[0m\u001b[0;34m\u001b[0m\u001b[0m\n\u001b[1;32m   1964\u001b[0m         )\n",
            "\u001b[0;31mAttributeError\u001b[0m: 'MnistModel' object has no attribute 'validation_step'"
          ]
        }
      ]
    },
    {
      "cell_type": "markdown",
      "source": [
        "We need to define that function: validation_step, and others."
      ],
      "metadata": {
        "id": "OkbhaRufmRgB"
      }
    },
    {
      "cell_type": "code",
      "source": [
        "class MnistModel(nn.Module):\n",
        "    def __init__(self):\n",
        "        super().__init__()\n",
        "        self.linear = nn.Linear(input_size, num_classes)\n",
        "\n",
        "    def forward(self, xb):\n",
        "        xb = xb.reshape(-1, 784)\n",
        "        out = self.linear(xb)\n",
        "        return out\n",
        "\n",
        "    def training_step(self, batch):\n",
        "        images, labels = batch\n",
        "        out = self(images)                  # Generate predictions\n",
        "        loss = F.cross_entropy(out, labels) # Calculate loss\n",
        "        return loss\n",
        "\n",
        "    def validation_step(self, batch):\n",
        "        images, labels = batch\n",
        "        out = self(images)                    # Generate predictions\n",
        "        loss = F.cross_entropy(out, labels)   # Calculate loss\n",
        "        acc = accuracy(out, labels)           # Calculate accuracy\n",
        "        return {'val_loss': loss, 'val_acc': acc}\n",
        "\n",
        "    def validation_epoch_end(self, outputs):\n",
        "        batch_losses = [x['val_loss'] for x in outputs]\n",
        "        epoch_loss = torch.stack(batch_losses).mean()   # Combine losses\n",
        "        batch_accs = [x['val_acc'] for x in outputs]\n",
        "        epoch_acc = torch.stack(batch_accs).mean()      # Combine accuracies\n",
        "        return {'val_loss': epoch_loss.item(), 'val_acc': epoch_acc.item()}\n",
        "\n",
        "    def epoch_end(self, epoch, result):\n",
        "        print(\"Epoch [{}], val_loss: {:.4f}, val_acc: {:.4f}\".format(epoch, result['val_loss'], result['val_acc']))\n",
        "\n",
        "model = MnistModel()"
      ],
      "metadata": {
        "id": "tEU4hSk6mQld"
      },
      "execution_count": 96,
      "outputs": []
    },
    {
      "cell_type": "code",
      "source": [
        "outputs = [model.validation_step(batch) for batch in val_loader]"
      ],
      "metadata": {
        "id": "Zwn6qZbLmgD3"
      },
      "execution_count": 80,
      "outputs": []
    },
    {
      "cell_type": "code",
      "source": [
        "model.validation_epoch_end(outputs)"
      ],
      "metadata": {
        "colab": {
          "base_uri": "https://localhost:8080/"
        },
        "id": "G20_HmzrmmmY",
        "outputId": "9c3d17a8-4e8a-4a82-d2b3-8f21281ede16"
      },
      "execution_count": 81,
      "outputs": [
        {
          "output_type": "execute_result",
          "data": {
            "text/plain": [
              "{'val_loss': 2.335648536682129, 'val_acc': 0.09216772019863129}"
            ]
          },
          "metadata": {},
          "execution_count": 81
        }
      ]
    },
    {
      "cell_type": "markdown",
      "source": [
        "The values above are the mean of the batch losses and accuracies calculated by validation_epoc_end function"
      ],
      "metadata": {
        "id": "exFRKcsAnSNK"
      }
    },
    {
      "cell_type": "code",
      "source": [
        "result0 = evaluate(model, val_loader)\n",
        "result0"
      ],
      "metadata": {
        "colab": {
          "base_uri": "https://localhost:8080/"
        },
        "id": "8NzWVOZkn5ky",
        "outputId": "9e48acde-f401-4857-dd55-7c8ecc1df305"
      },
      "execution_count": 97,
      "outputs": [
        {
          "output_type": "execute_result",
          "data": {
            "text/plain": [
              "{'val_loss': 2.302424669265747, 'val_acc': 0.10799050331115723}"
            ]
          },
          "metadata": {},
          "execution_count": 97
        }
      ]
    },
    {
      "cell_type": "code",
      "source": [
        "history1 = fit(5, 0.001, model, train_loader, val_loader)"
      ],
      "metadata": {
        "colab": {
          "base_uri": "https://localhost:8080/"
        },
        "id": "Sp4zOnXXoIiw",
        "outputId": "80bc0aa6-525f-4585-e921-66118b54a364"
      },
      "execution_count": 98,
      "outputs": [
        {
          "output_type": "stream",
          "name": "stdout",
          "text": [
            "Epoch [0], val_loss: 1.9324, val_acc: 0.6258\n",
            "Epoch [1], val_loss: 1.6659, val_acc: 0.7216\n",
            "Epoch [2], val_loss: 1.4675, val_acc: 0.7631\n",
            "Epoch [3], val_loss: 1.3176, val_acc: 0.7851\n",
            "Epoch [4], val_loss: 1.2023, val_acc: 0.7996\n"
          ]
        }
      ]
    },
    {
      "cell_type": "code",
      "source": [
        "history2 = fit(5, 0.01, model, train_loader, val_loader)"
      ],
      "metadata": {
        "colab": {
          "base_uri": "https://localhost:8080/"
        },
        "id": "Cg6sel2lo29P",
        "outputId": "2e15c64b-be59-43f5-958b-576130b805b4"
      },
      "execution_count": 99,
      "outputs": [
        {
          "output_type": "stream",
          "name": "stdout",
          "text": [
            "Epoch [0], val_loss: 0.7482, val_acc: 0.8426\n",
            "Epoch [1], val_loss: 0.6166, val_acc: 0.8591\n",
            "Epoch [2], val_loss: 0.5519, val_acc: 0.8654\n",
            "Epoch [3], val_loss: 0.5118, val_acc: 0.8705\n",
            "Epoch [4], val_loss: 0.4847, val_acc: 0.8751\n"
          ]
        }
      ]
    },
    {
      "cell_type": "code",
      "source": [
        "history3 = fit(5, 0.05, model, train_loader, val_loader)"
      ],
      "metadata": {
        "colab": {
          "base_uri": "https://localhost:8080/"
        },
        "id": "uYzTW5MkpaX1",
        "outputId": "bd86ef01-776e-4f5b-c654-25fdf8b2b4ee"
      },
      "execution_count": 100,
      "outputs": [
        {
          "output_type": "stream",
          "name": "stdout",
          "text": [
            "Epoch [0], val_loss: 0.4178, val_acc: 0.8884\n",
            "Epoch [1], val_loss: 0.3884, val_acc: 0.8922\n",
            "Epoch [2], val_loss: 0.3708, val_acc: 0.8961\n",
            "Epoch [3], val_loss: 0.3597, val_acc: 0.8988\n",
            "Epoch [4], val_loss: 0.3499, val_acc: 0.9003\n"
          ]
        }
      ]
    },
    {
      "cell_type": "code",
      "source": [
        "history4 = fit(5, 0.1, model, train_loader, val_loader)"
      ],
      "metadata": {
        "colab": {
          "base_uri": "https://localhost:8080/"
        },
        "id": "ozPA_Rt5psa4",
        "outputId": "b8bbafb2-d8e8-4993-8fde-5c3bc017b70e"
      },
      "execution_count": 101,
      "outputs": [
        {
          "output_type": "stream",
          "name": "stdout",
          "text": [
            "Epoch [0], val_loss: 0.3405, val_acc: 0.9037\n",
            "Epoch [1], val_loss: 0.3298, val_acc: 0.9072\n",
            "Epoch [2], val_loss: 0.3245, val_acc: 0.9087\n",
            "Epoch [3], val_loss: 0.3199, val_acc: 0.9079\n",
            "Epoch [4], val_loss: 0.3164, val_acc: 0.9092\n"
          ]
        }
      ]
    },
    {
      "cell_type": "code",
      "source": [
        "history5 = fit(5, 0.5, model, train_loader, val_loader)"
      ],
      "metadata": {
        "colab": {
          "base_uri": "https://localhost:8080/"
        },
        "id": "sncsQSn-qAgB",
        "outputId": "14e264de-f42a-4983-cc29-e2865b51c537"
      },
      "execution_count": 102,
      "outputs": [
        {
          "output_type": "stream",
          "name": "stdout",
          "text": [
            "Epoch [0], val_loss: 0.3148, val_acc: 0.9119\n",
            "Epoch [1], val_loss: 0.3063, val_acc: 0.9150\n",
            "Epoch [2], val_loss: 0.3188, val_acc: 0.9077\n",
            "Epoch [3], val_loss: 0.3008, val_acc: 0.9160\n",
            "Epoch [4], val_loss: 0.3097, val_acc: 0.9096\n"
          ]
        }
      ]
    },
    {
      "cell_type": "code",
      "source": [
        "history = [result0] + history1 + history2 + history3 + history4 + history5\n",
        "accuracies = [result['val_acc'] for result in history]\n",
        "plt.plot(accuracies, '-x')\n",
        "plt.xlabel('epoch')\n",
        "plt.ylabel('accuracy')\n",
        "plt.title('Accuracy vs. No. of epochs');"
      ],
      "metadata": {
        "colab": {
          "base_uri": "https://localhost:8080/",
          "height": 472
        },
        "id": "uq73WlQBqXYI",
        "outputId": "5069aca8-7a98-4fb5-d134-8af273d70712"
      },
      "execution_count": 103,
      "outputs": [
        {
          "output_type": "display_data",
          "data": {
            "text/plain": [
              "<Figure size 640x480 with 1 Axes>"
            ],
            "image/png": "[encoded data removed]"
          },
          "metadata": {}
        }
      ]
    },
    {
      "cell_type": "markdown",
      "source": [
        "# Testing with individual images"
      ],
      "metadata": {
        "id": "P2uuzQ1ctcMf"
      }
    },
    {
      "cell_type": "markdown",
      "source": [
        "While we have been tracking the overall accuracy of a model so far, it's also a good idea to look at model's results on some sample images. Let's test out our model with some images from the predefined test dataset of 10000 images. We begin by recreating the test dataset with the `ToTensor` transform."
      ],
      "metadata": {
        "id": "loclrcFfter8"
      }
    },
    {
      "cell_type": "code",
      "source": [
        "# Define test dataset\n",
        "test_dataset = MNIST(root='data/',\n",
        "                     train=False,\n",
        "                     transform=transforms.ToTensor())"
      ],
      "metadata": {
        "id": "Zah2D5IothbS"
      },
      "execution_count": 104,
      "outputs": []
    },
    {
      "cell_type": "code",
      "source": [
        "img, label = test_dataset[0]\n",
        "plt.imshow(img[0], cmap='gray')\n",
        "print('Shape:', img.shape)\n",
        "print('Label:', label)"
      ],
      "metadata": {
        "colab": {
          "base_uri": "https://localhost:8080/",
          "height": 465
        },
        "id": "HQQGZpmatkoo",
        "outputId": "bfa1a777-4891-4321-f3d3-0f6222b4e7e0"
      },
      "execution_count": 105,
      "outputs": [
        {
          "output_type": "stream",
          "name": "stdout",
          "text": [
            "Shape: torch.Size([1, 28, 28])\n",
            "Label: 7\n"
          ]
        },
        {
          "output_type": "display_data",
          "data": {
            "text/plain": [
              "<Figure size 640x480 with 1 Axes>"
            ],
            "image/png": "[encoded data removed]"
          },
          "metadata": {}
        }
      ]
    },
    {
      "cell_type": "markdown",
      "source": [
        "Let's define a helper function `predict_image`, which returns the predicted label for a single image tensor."
      ],
      "metadata": {
        "id": "8y20lf5htpr4"
      }
    },
    {
      "cell_type": "code",
      "source": [
        "def predict_image(img, model):\n",
        "    xb = img.unsqueeze(0)\n",
        "    yb = model(xb)\n",
        "    _, preds  = torch.max(yb, dim=1)\n",
        "    return preds[0].item()"
      ],
      "metadata": {
        "id": "1pGK6aFOtrME"
      },
      "execution_count": 106,
      "outputs": []
    },
    {
      "cell_type": "markdown",
      "source": [
        "`img.unsqueeze` simply adds another dimension at the begining of the 1x28x28 tensor, making it a 1x1x28x28 tensor, which the model views as a batch containing a single image.\n",
        "\n",
        "Let's try it out with a few images."
      ],
      "metadata": {
        "id": "7_E8fiJQuBh0"
      }
    },
    {
      "cell_type": "code",
      "source": [
        "img, label = test_dataset[0]\n",
        "plt.imshow(img[0], cmap='gray')\n",
        "print('Label:', label, ', Predicted:', predict_image(img, model))"
      ],
      "metadata": {
        "colab": {
          "base_uri": "https://localhost:8080/",
          "height": 447
        },
        "id": "g4Cua3UVuDH_",
        "outputId": "001217c0-2561-4ba2-b313-bb7f1992ea7f"
      },
      "execution_count": 107,
      "outputs": [
        {
          "output_type": "stream",
          "name": "stdout",
          "text": [
            "Label: 7 , Predicted: 7\n"
          ]
        },
        {
          "output_type": "display_data",
          "data": {
            "text/plain": [
              "<Figure size 640x480 with 1 Axes>"
            ],
            "image/png": "[encoded data removed]"
          },
          "metadata": {}
        }
      ]
    },
    {
      "cell_type": "code",
      "source": [
        "img, label = test_dataset[10]\n",
        "plt.imshow(img[0], cmap='gray')\n",
        "print('Label:', label, ', Predicted:', predict_image(img, model))"
      ],
      "metadata": {
        "colab": {
          "base_uri": "https://localhost:8080/",
          "height": 447
        },
        "id": "CzfuS6VTuO4w",
        "outputId": "81971834-3f0c-4c30-8bf8-24d8cb803a71"
      },
      "execution_count": 108,
      "outputs": [
        {
          "output_type": "stream",
          "name": "stdout",
          "text": [
            "Label: 0 , Predicted: 0\n"
          ]
        },
        {
          "output_type": "display_data",
          "data": {
            "text/plain": [
              "<Figure size 640x480 with 1 Axes>"
            ],
            "image/png": "[encoded data removed]"
          },
          "metadata": {}
        }
      ]
    },
    {
      "cell_type": "code",
      "source": [
        "img, label = test_dataset[193]\n",
        "plt.imshow(img[0], cmap='gray')\n",
        "print('Label:', label, ', Predicted:', predict_image(img, model))"
      ],
      "metadata": {
        "colab": {
          "base_uri": "https://localhost:8080/",
          "height": 447
        },
        "id": "1UAOJvFNuTjj",
        "outputId": "181b5b0f-f888-4d28-e90a-62e23c5670d7"
      },
      "execution_count": 109,
      "outputs": [
        {
          "output_type": "stream",
          "name": "stdout",
          "text": [
            "Label: 9 , Predicted: 9\n"
          ]
        },
        {
          "output_type": "display_data",
          "data": {
            "text/plain": [
              "<Figure size 640x480 with 1 Axes>"
            ],
            "image/png": "[encoded data removed]"
          },
          "metadata": {}
        }
      ]
    },
    {
      "cell_type": "code",
      "source": [
        "img, label = test_dataset[1839]\n",
        "plt.imshow(img[0], cmap='gray')\n",
        "print('Label:', label, ', Predicted:', predict_image(img, model))"
      ],
      "metadata": {
        "colab": {
          "base_uri": "https://localhost:8080/",
          "height": 447
        },
        "id": "I6EAbafmudKQ",
        "outputId": "bc6a0468-5752-4d5a-f526-0b71416671e7"
      },
      "execution_count": 110,
      "outputs": [
        {
          "output_type": "stream",
          "name": "stdout",
          "text": [
            "Label: 2 , Predicted: 2\n"
          ]
        },
        {
          "output_type": "display_data",
          "data": {
            "text/plain": [
              "<Figure size 640x480 with 1 Axes>"
            ],
            "image/png": "[encoded data removed]"
          },
          "metadata": {}
        }
      ]
    },
    {
      "cell_type": "markdown",
      "source": [
        "I got a better result because I reached accuracy near 0.915 compared to the guide in which an accuracy of 0.85 was reached."
      ],
      "metadata": {
        "id": "ciUFg-9culuJ"
      }
    },
    {
      "cell_type": "code",
      "source": [
        "test_loader = DataLoader(test_dataset, batch_size=256)\n",
        "result = evaluate(model, test_loader)\n",
        "result"
      ],
      "metadata": {
        "colab": {
          "base_uri": "https://localhost:8080/"
        },
        "id": "HzrAJqqTu4Zo",
        "outputId": "899a7579-376a-43b4-b1a5-6363b8a87e45"
      },
      "execution_count": 111,
      "outputs": [
        {
          "output_type": "execute_result",
          "data": {
            "text/plain": [
              "{'val_loss': 0.27995893359184265, 'val_acc': 0.922070324420929}"
            ]
          },
          "metadata": {},
          "execution_count": 111
        }
      ]
    },
    {
      "cell_type": "markdown",
      "source": [
        "## Saving and loading the model"
      ],
      "metadata": {
        "id": "14EWcyOyvjTS"
      }
    },
    {
      "cell_type": "markdown",
      "source": [
        "Since we've trained our model for a long time and achieved a resonable accuracy, it would be a good idea to save the weights and bias matrices to disk, so that we can reuse the model later and avoid retraining from scratch. Here's how you can save the model."
      ],
      "metadata": {
        "id": "1GWzBEwWvln9"
      }
    },
    {
      "cell_type": "code",
      "source": [
        "torch.save(model.state_dict(), 'mnist-logistic.pth')"
      ],
      "metadata": {
        "id": "Xr3_YPu-vpbp"
      },
      "execution_count": 112,
      "outputs": []
    },
    {
      "cell_type": "markdown",
      "source": [
        "The `.state_dict` method returns an `OrderedDict` containing all the weights and bias matrices mapped to the right attributes of the model."
      ],
      "metadata": {
        "id": "VZNeoDLYv51A"
      }
    },
    {
      "cell_type": "code",
      "source": [
        "model.state_dict()"
      ],
      "metadata": {
        "colab": {
          "base_uri": "https://localhost:8080/"
        },
        "id": "meL7QzXYv1wa",
        "outputId": "2b92d03f-18ac-41bc-b62c-e9572a1fb3ac"
      },
      "execution_count": 113,
      "outputs": [
        {
          "output_type": "execute_result",
          "data": {
            "text/plain": [
              "OrderedDict([('linear.weight',\n",
              "              tensor([[-2.1304e-02,  3.4415e-02,  1.7950e-02,  ...,  6.2304e-05,\n",
              "                       -8.3050e-03, -1.7202e-02],\n",
              "                      [ 8.2354e-03, -2.6919e-02,  3.5248e-02,  ..., -1.3891e-02,\n",
              "                        1.4713e-02, -2.2473e-02],\n",
              "                      [-3.4586e-02, -1.0968e-02, -1.7384e-02,  ..., -2.9376e-02,\n",
              "                        3.6188e-03,  2.5677e-02],\n",
              "                      ...,\n",
              "                      [-2.5262e-02, -6.0856e-03, -9.8838e-03,  ..., -4.3956e-03,\n",
              "                       -5.5066e-03, -9.5026e-03],\n",
              "                      [-8.1941e-03, -2.0439e-02, -1.8700e-02,  ..., -2.8437e-02,\n",
              "                       -2.0779e-02, -6.2488e-03],\n",
              "                      [-2.8291e-03, -1.1752e-02,  3.2628e-02,  ...,  1.0549e-02,\n",
              "                        1.3749e-02, -3.1831e-02]])),\n",
              "             ('linear.bias',\n",
              "              tensor([-0.5516,  0.4609,  0.1731, -0.3303, -0.0365,  1.8307, -0.2066,  0.9354,\n",
              "                      -1.8980, -0.3895]))])"
            ]
          },
          "metadata": {},
          "execution_count": 113
        }
      ]
    },
    {
      "cell_type": "markdown",
      "source": [
        "To load the model weights, we can instante a new object of the class `MnistModel`, and use the `.load_state_dict` method."
      ],
      "metadata": {
        "id": "hJObjkCGwBoe"
      }
    },
    {
      "cell_type": "code",
      "source": [
        "model2 = MnistModel()\n",
        "model2.load_state_dict(torch.load('mnist-logistic.pth'))\n",
        "model2.state_dict()"
      ],
      "metadata": {
        "colab": {
          "base_uri": "https://localhost:8080/"
        },
        "id": "bEh1MXqiwG4r",
        "outputId": "d0e3186e-b10c-4a28-a011-9d1054e29d88"
      },
      "execution_count": 114,
      "outputs": [
        {
          "output_type": "execute_result",
          "data": {
            "text/plain": [
              "OrderedDict([('linear.weight',\n",
              "              tensor([[-2.1304e-02,  3.4415e-02,  1.7950e-02,  ...,  6.2304e-05,\n",
              "                       -8.3050e-03, -1.7202e-02],\n",
              "                      [ 8.2354e-03, -2.6919e-02,  3.5248e-02,  ..., -1.3891e-02,\n",
              "                        1.4713e-02, -2.2473e-02],\n",
              "                      [-3.4586e-02, -1.0968e-02, -1.7384e-02,  ..., -2.9376e-02,\n",
              "                        3.6188e-03,  2.5677e-02],\n",
              "                      ...,\n",
              "                      [-2.5262e-02, -6.0856e-03, -9.8838e-03,  ..., -4.3956e-03,\n",
              "                       -5.5066e-03, -9.5026e-03],\n",
              "                      [-8.1941e-03, -2.0439e-02, -1.8700e-02,  ..., -2.8437e-02,\n",
              "                       -2.0779e-02, -6.2488e-03],\n",
              "                      [-2.8291e-03, -1.1752e-02,  3.2628e-02,  ...,  1.0549e-02,\n",
              "                        1.3749e-02, -3.1831e-02]])),\n",
              "             ('linear.bias',\n",
              "              tensor([-0.5516,  0.4609,  0.1731, -0.3303, -0.0365,  1.8307, -0.2066,  0.9354,\n",
              "                      -1.8980, -0.3895]))])"
            ]
          },
          "metadata": {},
          "execution_count": 114
        }
      ]
    },
    {
      "cell_type": "code",
      "source": [
        "test_loader = DataLoader(test_dataset, batch_size=256)\n",
        "result = evaluate(model2, test_loader)\n",
        "result"
      ],
      "metadata": {
        "colab": {
          "base_uri": "https://localhost:8080/"
        },
        "id": "mxdk9VvQwQ7-",
        "outputId": "d6e1fa19-7e57-4ab7-8f1f-7fbd71383b16"
      },
      "execution_count": 115,
      "outputs": [
        {
          "output_type": "execute_result",
          "data": {
            "text/plain": [
              "{'val_loss': 0.27995893359184265, 'val_acc': 0.922070324420929}"
            ]
          },
          "metadata": {},
          "execution_count": 115
        }
      ]
    }
  ]
}